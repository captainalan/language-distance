{
 "cells": [
  {
   "cell_type": "markdown",
   "metadata": {},
   "source": [
    "# Minkowski Distance between Languages\n",
    "\n",
    "Alan Wong  \n",
    "April 19, 2018\n",
    "\n",
    "## Introduction\n",
    "\n",
    "Languages can be described in terms of features. A whole lot of information can be found at the [World Atlas of Lanugage Structures (WALS)](http://wals.info/) database. Here, though, I only look at a small number of languages and a small number of features.\n",
    "\n",
    "We require vectors of equal length. (Other assumptions)\n"
   ]
  },
  {
   "cell_type": "markdown",
   "metadata": {},
   "source": [
    "## Data\n",
    "\n",
    "Language data is in `lang_data.txt` in this directory. It is presented in human and machine readable, plain text format, with white space dividing each entry. I chose a handful of features I thought were interesting.\n",
    "\n",
    "- **OV** (Object-Verb) specifies whether or not objects come before verbs. In English, they typically don't, as in \"I ate the pizza\". Here, \"the pizza\", what I ate, comes after the verb.\n",
    "- **Typology** specifies whether a language is generally isolating (1), fusional (2), or agglutinating (3). (Add a bit more about what this means).\n",
    "- **Written** refers to if the language is commonly written with a standardized orthography or not.\n",
    "- **[FSI](https://www.atlasandboots.com/foreign-service-institute-language-difficulty/)** (difficulty) is an integer corresponding to the Foreign Service Institute (FSI)'s estimation of how long it would take a native English speaker to gain proficiency in the target language.\n",
    "- **Indo-European** is a language family, for which Sir William Jones (1746-1794) is known for proposing. \n",
    "\n",
    "As there isn't much data, I'll just display it all here:"
   ]
  },
  {
   "cell_type": "code",
   "execution_count": 133,
   "metadata": {},
   "outputs": [
    {
     "name": "stdout",
     "output_type": "stream",
     "text": [
      "         Name Abbr   OV Tonal  Typology Written  FSI Indo-European\n",
      "0     Chinese   cn   No   Yes         1     Yes    4            No\n",
      "1     English   en   No    No         2     Yes    0           Yes\n",
      "2   Esperanto   eo   No    No         3     Yes    1           Yes\n",
      "3      French   fr   No    No         2     Yes    1           Yes\n",
      "4      German   de   No    No         2     Yes    2           Yes\n",
      "5  Indonesian   id   No    No         2     Yes    3            No\n",
      "6    Japanese   jp  Yes   Yes         3     Yes    4            No\n",
      "7      Korean   ko  Yes    No         3     Yes    4            No\n",
      "8     Spanish   es   No    No         2     Yes    1           Yes\n"
     ]
    }
   ],
   "source": [
    "import pandas as pd\n",
    "\n",
    "data = pd.read_table('lang_data.txt', header=0, delim_whitespace=True)\n",
    "print(data)"
   ]
  },
  {
   "cell_type": "markdown",
   "metadata": {},
   "source": [
    "## Code\n",
    "\n",
    "The code below for calculating Minkowski Distance as well as comparing and representing languages is for the most part adapted from John V. Guttag's *Introduction to Computation and Programming Using Python* (2016), with some small changes to fit the data I'm working with here (e.g. code changed to deal with languages rather than animals, which he used in his example in that book)."
   ]
  },
  {
   "cell_type": "code",
   "execution_count": 134,
   "metadata": {},
   "outputs": [],
   "source": [
    "def minkowskiDist(v1, v2, p):\n",
    "    \"\"\"Assumes v1 and v2 are equal-length arrays of numbers\n",
    "       Returns Minkowski distance of order p between v1 and v2\"\"\"\n",
    "    dist = 0.0\n",
    "    for i in range(len(v1)):\n",
    "        dist += abs(v1[i] - v2[i])**p\n",
    "    return dist**(1/p)"
   ]
  },
  {
   "cell_type": "code",
   "execution_count": 135,
   "metadata": {},
   "outputs": [],
   "source": [
    "import pylab\n",
    "\n",
    "class Language(object):\n",
    "    def __init__(self, name, features):\n",
    "        \"\"\"Assumes name a string; features a list of numbers\"\"\"\n",
    "        self.name = name\n",
    "        self.features = pylab.array(features)\n",
    "        \n",
    "    def getName(self):\n",
    "        return self.name\n",
    "    \n",
    "    def getFeatures(self):\n",
    "        return self.features\n",
    "    \n",
    "    def distance(self, other):\n",
    "        \"\"\"Assumes other a Language\n",
    "           Returns the Euclidean distance between feature vectors\n",
    "           of self and other\"\"\"\n",
    "        return minkowskiDist(self.getFeatures(),\n",
    "                            other.getFeatures(), 2)"
   ]
  },
  {
   "cell_type": "markdown",
   "metadata": {},
   "source": [
    "Now, we will process the data that we read in earlier, turning all feature values into integers."
   ]
  },
  {
   "cell_type": "code",
   "execution_count": 136,
   "metadata": {},
   "outputs": [],
   "source": [
    "myLanguages = []\n",
    "\n",
    "for j in range(0,len(data)):\n",
    "    # Read in features from pandas dataframe as list\n",
    "    features = [data['OV'][j], data['Tonal'][j], data['Typology'][j],\n",
    "               data['Written'][j], data['FSI'][j], data['Indo-European'][j]]\n",
    "    # Convert features into integers\n",
    "    for i in range(0,len(features)):\n",
    "        if features[i] == 'No':\n",
    "            features[i] = 0\n",
    "        elif features[i] == 'Yes':\n",
    "            features[i] = 1\n",
    "    # Store list of language objects\n",
    "    lang = Language(data['Abbr'][j],\n",
    "                   features)\n",
    "    myLanguages.append(lang)"
   ]
  },
  {
   "cell_type": "code",
   "execution_count": 137,
   "metadata": {},
   "outputs": [],
   "source": [
    "def compareLanguages(languages, precision):\n",
    "    \"\"\"Assumes languages is a list of languages, precision an int >= 0\n",
    "       Builds a table of Euclidean distance between each language\"\"\"\n",
    "    # Get labels for columns and rows\n",
    "    columnLabels = []\n",
    "    for l in languages:\n",
    "        columnLabels.append(l.getName())\n",
    "    rowLabels = columnLabels[:]\n",
    "    tableVals = []\n",
    "    # Get distances between pairs of languages\n",
    "    # For each row\n",
    "    for l1 in languages:\n",
    "        row = []\n",
    "        # For each column\n",
    "        for l2 in languages:\n",
    "            if l1 == l2:\n",
    "                row.append('--')\n",
    "            else:\n",
    "                distance = l1.distance(l2)\n",
    "                row.append(str(round(distance, precision)))\n",
    "        tableVals.append(row)\n",
    "        \n",
    "        \n",
    "    fig, ax = pylab.subplots()\n",
    "    # Hide axes\n",
    "    ax.xaxis.set_visible(False)\n",
    "    ax.yaxis.set_visible(False)\n",
    "    \n",
    "    # Produce table\n",
    "    table = pylab.table(rowLabels = rowLabels,\n",
    "                       colLabels = columnLabels,\n",
    "                       cellText = tableVals,\n",
    "                       cellLoc = 'center',\n",
    "                       loc = 'top',\n",
    "                       colWidths = [0.2]*len(languages))\n",
    "    table.scale(1, 2.5)\n",
    "    \n",
    "\n",
    "                        "
   ]
  },
  {
   "cell_type": "markdown",
   "metadata": {},
   "source": [
    "## Results\n",
    "\n",
    "The strange lines below the table produced here are from the way `pylab` integrates tables with figures. I didn't produce any figure and managed to get rid of the labels on the axes but haven't been able to figure out how to get rid of the empty plot.\n",
    "\n",
    "Now it looks like a note card with a cute fold up stand thing, ha!\n",
    "\n",
    "The distances calculated in the table seem to match some intuitions. English, for instance, is more similar to French (1.0) than it is to Japanese (4.47). French and German  are taken to be very similar (1.0), as are Korean and Japanese (1.0)."
   ]
  },
  {
   "cell_type": "code",
   "execution_count": 138,
   "metadata": {},
   "outputs": [
    {
     "data": {
      "image/png": "[encoded data removed]",
      "text/plain": [
       "<Figure size 432x288 with 1 Axes>"
      ]
     },
     "metadata": {},
     "output_type": "display_data"
    }
   ],
   "source": [
    "compareLanguages(myLanguages, 2)"
   ]
  },
  {
   "cell_type": "markdown",
   "metadata": {},
   "source": [
    "## Discussion\n",
    "\n",
    "In this small study, I used a small number of discrete features (6) representing similarities and differences between languages to quantify differences between a small sample of (9) languages. This study used a convenience sample (I selected languages I already knew about) and has a clear Anglophone bias, as exemplified by the selection of the FSI difficulty as a feature (which represents how hard a language is to learn for English speakers).\n",
    "\n",
    "The approach of measuring Minkowski distance based of features is something that can be scaled to include more data, better features, and so forth. \n",
    "\n",
    "I probably need to find a better way to represent the calculated Minkowski distances, particularly if I add more languages. "
   ]
  },
  {
   "cell_type": "markdown",
   "metadata": {},
   "source": [
    "## References\n",
    "\n",
    "Guttag, John V. *Introduction to computation and programming using Python.* 2nd ed. Cambridge, Massachusetts: MIT Press, 2016."
   ]
  }
 ],
 "metadata": {
  "kernelspec": {
   "display_name": "Python 3",
   "language": "python",
   "name": "python3"
  },
  "language_info": {
   "codemirror_mode": {
    "name": "ipython",
    "version": 3
   },
   "file_extension": ".py",
   "mimetype": "text/x-python",
   "name": "python",
   "nbconvert_exporter": "python",
   "pygments_lexer": "ipython3",
   "version": "3.6.5"
  }
 },
 "nbformat": 4,
 "nbformat_minor": 2
}
